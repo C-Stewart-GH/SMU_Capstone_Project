{
 "cells": [
  {
   "cell_type": "code",
   "execution_count": 31,
   "metadata": {},
   "outputs": [],
   "source": [
    "import numpy as np\n",
    "import pandas as pd\n",
    "from collections import Counter\n",
    "import matplotlib.pyplot as plt\n",
    "import seaborn as sns\n",
    "import pickle\n",
    "import bz2\n",
    "import random\n",
    "from datetime import datetime, timedelta\n",
    "from dateutil.relativedelta import relativedelta\n",
    "from scipy.stats import rankdata  \n"
   ]
  },
  {
   "cell_type": "code",
   "execution_count": 32,
   "metadata": {},
   "outputs": [
    {
     "name": "stdout",
     "output_type": "stream",
     "text": [
      "<class 'pandas.core.frame.DataFrame'>\n",
      "RangeIndex: 206296 entries, 0 to 206295\n",
      "Data columns (total 33 columns):\n",
      " #   Column              Non-Null Count   Dtype         \n",
      "---  ------              --------------   -----         \n",
      " 0   tournamentId        206296 non-null  int32         \n",
      " 1   tournament_name     206296 non-null  object        \n",
      " 2   type                206296 non-null  object        \n",
      " 3   division            206296 non-null  object        \n",
      " 4   divisionId          206296 non-null  object        \n",
      " 5   gender              206296 non-null  object        \n",
      " 6   age_type            206296 non-null  object        \n",
      " 7   match_id            206296 non-null  int32         \n",
      " 8   roundNumber         206296 non-null  int32         \n",
      " 9   matchNumber         206296 non-null  int32         \n",
      " 10  matchWinner         206296 non-null  object        \n",
      " 11  series_number       206296 non-null  int32         \n",
      " 12  match_type          206296 non-null  object        \n",
      " 13  isMatch             206296 non-null  bool          \n",
      " 14  player_id           206296 non-null  int32         \n",
      " 15  teammate_id         206296 non-null  int32         \n",
      " 16  team_id             206296 non-null  object        \n",
      " 17  opponent1_id        206296 non-null  int32         \n",
      " 18  opponent2_id        206296 non-null  int32         \n",
      " 19  opponent_team_id    206296 non-null  object        \n",
      " 20  win                 206296 non-null  bool          \n",
      " 21  ignored_score       206296 non-null  bool          \n",
      " 22  team_score          206296 non-null  int32         \n",
      " 23  opponent_score      206296 non-null  int32         \n",
      " 24  incomplete_score    206296 non-null  bool          \n",
      " 25  required_score      206296 non-null  int32         \n",
      " 26  score_differential  206296 non-null  int32         \n",
      " 27  pct_points_won      206296 non-null  float32       \n",
      " 28  winning_score       206296 non-null  int32         \n",
      " 29  latitude            206296 non-null  float32       \n",
      " 30  longitude           206296 non-null  float32       \n",
      " 31  time_zone           206296 non-null  object        \n",
      " 32  datetime            206296 non-null  datetime64[ns]\n",
      "dtypes: bool(4), datetime64[ns](1), float32(3), int32(14), object(11)\n",
      "memory usage: 33.1+ MB\n"
     ]
    },
    {
     "data": {
      "image/png": "[encoded data removed]",
      "text/plain": [
       "<Figure size 432x288 with 1 Axes>"
      ]
     },
     "metadata": {
      "needs_background": "light"
     },
     "output_type": "display_data"
    }
   ],
   "source": [
    "\n",
    "\n",
    "#Pickle in vball data\n",
    "with open('/Users/cameron/Documents/SMU_DS/Capstone/SMU_Capstone_Project/Pickle_Files/vball_game_data.pbz2', 'rb') as file:\n",
    "    uncompressed = bz2.BZ2File(file)\n",
    "    vball = pickle.load(uncompressed)\n",
    "\n",
    "#Move to data frame\n",
    "df_vball=pd.DataFrame(vball)\n",
    "\n",
    "df_vball.info()\n",
    "df_vball.head()\n",
    "\n",
    "#Look at game density over time before time filtering\n",
    "plt.hist(df_vball[['datetime']],bins=80)\n",
    "plt.title('Games Played by Date')\n",
    "plt.show()\n"
   ]
  },
  {
   "cell_type": "code",
   "execution_count": 33,
   "metadata": {},
   "outputs": [
    {
     "data": {
      "text/plain": [
       "9667.0"
      ]
     },
     "execution_count": 33,
     "metadata": {},
     "output_type": "execute_result"
    }
   ],
   "source": [
    "with open('/Users/cameron/Documents/SMU_DS/Capstone/SMU_Capstone_Project/Pickle_Files/new_vball_game_data_alt.pbz2', 'rb') as file:\n",
    "    uncompressed = bz2.BZ2File(file)\n",
    "    vball_new = pickle.load(uncompressed)\n",
    "\n",
    "#Create TrueSkill Through Time Implementation\n",
    "vball_new.shape[0]/4"
   ]
  },
  {
   "cell_type": "code",
   "execution_count": 40,
   "metadata": {},
   "outputs": [
    {
     "data": {
      "image/png": "[encoded data removed]",
      "text/plain": [
       "<Figure size 432x288 with 1 Axes>"
      ]
     },
     "metadata": {
      "needs_background": "light"
     },
     "output_type": "display_data"
    }
   ],
   "source": [
    "vball_new_clean=vball_new[(vball_new['datetime'] >= max(vball['datetime']))]\n",
    "new_game_start_index=int(len(vball)/4)\n",
    "vball_all=np.concatenate((vball, vball_new_clean))\n",
    "vball_all_df=pd.DataFrame(vball_all)\n",
    "\n",
    "#Look at game density over time before time filtering\n",
    "plt.hist(vball_all_df[['datetime']],bins=80)\n",
    "plt.title('Games Played by Date')\n",
    "plt.show()"
   ]
  },
  {
   "cell_type": "code",
   "execution_count": 35,
   "metadata": {},
   "outputs": [
    {
     "data": {
      "text/plain": [
       "tournamentId                                                        929\n",
       "tournament_name       p1440 Southern Championship (Junior Summer Cha...\n",
       "type                                                              Local\n",
       "division                                                            16U\n",
       "divisionId                                                            7\n",
       "gender                                                            Girls\n",
       "age_type                                                        Juniors\n",
       "match_id                                                           6090\n",
       "roundNumber                                                           3\n",
       "matchNumber                                                         251\n",
       "matchWinner                                                        Away\n",
       "series_number                                                         1\n",
       "match_type                                                      Bracket\n",
       "isMatch                                                            True\n",
       "player_id                                                          6085\n",
       "teammate_id                                                        4974\n",
       "team_id                                                       4974.6085\n",
       "opponent1_id                                                       5014\n",
       "opponent2_id                                                       6580\n",
       "opponent_team_id                                              5014.6580\n",
       "win                                                               False\n",
       "ignored_score                                                     False\n",
       "team_score                                                           23\n",
       "opponent_score                                                       25\n",
       "incomplete_score                                                  False\n",
       "required_score                                                       21\n",
       "score_differential                                                   -2\n",
       "pct_points_won                                                 0.479167\n",
       "winning_score                                                        25\n",
       "latitude                                                         27.621\n",
       "longitude                                                      -80.3834\n",
       "time_zone                                         Eastern Standard Time\n",
       "datetime                                            2020-06-14 12:00:00\n",
       "Name: 51578, dtype: object"
      ]
     },
     "execution_count": 35,
     "metadata": {},
     "output_type": "execute_result"
    }
   ],
   "source": [
    "vball_all_df.iloc[new_game_start_index+4,:]"
   ]
  },
  {
   "cell_type": "code",
   "execution_count": 36,
   "metadata": {},
   "outputs": [],
   "source": [
    "def network_model(dataset,train_start_date,training_period_days,prediction_period_days,rw_iterations,reset_probability,train_end_date=None):\n",
    "  pred_date_check=False\n",
    "  result_holder=[]\n",
    "  loop=1\n",
    "  pred_count=0\n",
    "  while pred_date_check==False:\n",
    "    if loop==1:\n",
    "      reference_date=train_start_date\n",
    "    if loop>1:\n",
    "      reference_date=pred_end_date-timedelta(days=training_period_days)\n",
    "    \n",
    "    loop+=1\n",
    "    #filter for train_start_date\n",
    "    ref_end_date=reference_date+timedelta(days=training_period_days)\n",
    "    df_recent=dataset.loc[(dataset['datetime'] >= reference_date) & (dataset['datetime'] < ref_end_date)]\n",
    "    \n",
    "    #Filter out games with no score\n",
    "    df_recent=df_recent[(df_recent.ignored_score==False) & (df_recent.incomplete_score==False)]\n",
    "    df_recent=df_recent.reset_index()\n",
    "\n",
    "    #Get all opponents in one column for group by\n",
    "    df_recent_dup=df_recent.copy()\n",
    "    df_recent_dup.opponent1_id=df_recent_dup.opponent2_id\n",
    "\n",
    "    df_long=df_recent.copy()\n",
    "    df_long=df_long.append(df_recent_dup, ignore_index = True)\n",
    "\n",
    "    # #Group players by points played against each opponent which can be used to understand confidence of rating\n",
    "    # grp_pts_played=df_long.groupby(['player_id','opponent1_id'])[\"winning_score\"].sum()\n",
    "\n",
    "    #Group players by pct points won average which can be used to understand who is better\n",
    "    grp_pct_pts_won=df_long.groupby(['player_id','opponent1_id'])[\"pct_points_won\"].mean()\n",
    "\n",
    "    #Create unique player list and set up empty matrices\n",
    "    player_list=sorted(list(df_recent['player_id'].unique()))\n",
    "    # points_matrix=np.zeros((len(player_list),len(player_list)))\n",
    "    pct_points_matrix=np.zeros((len(player_list),len(player_list)))\n",
    "\n",
    "    #Create dictionary of sum of points played and avg pct points won\n",
    "    # dict_pts_played=dict(grp_pts_played)\n",
    "    dict_pct_pts_won=dict(grp_pct_pts_won)\n",
    "    player_order_dict={k:v for v,k in enumerate(player_list)}\n",
    "\n",
    "    # #Fill points matrix (from row to column id)\n",
    "    # for k,v in dict_pts_played.items():\n",
    "    #   points_matrix[player_order_dict[k[0]],player_order_dict[k[1]]]=v\n",
    "\n",
    "    #Fill pct points won matrix (from row to column id)\n",
    "    #Using 1-v so that the edges point to the better team\n",
    "    for k,v in dict_pct_pts_won.items():\n",
    "      pct_points_matrix[player_order_dict[k[0]],player_order_dict[k[1]]]=1-v\n",
    "\n",
    "    #Random Walk\n",
    "    holder=[]\n",
    "    restart=True\n",
    "    iterations=rw_iterations\n",
    "    for i in range(iterations):\n",
    "      if restart==True:\n",
    "        random.seed(i)\n",
    "        start_row = random.randint(0,len(player_list)-1)\n",
    "        holder.append(start_row)\n",
    "        new_row = random.choices(list(range(len(player_list))), weights=list(pct_points_matrix[start_row,:]), k=1)\n",
    "        restart=False\n",
    "      else:\n",
    "        new_row = random.choices(list(range(len(player_list))), weights=list(pct_points_matrix[new_row[0],:]), k=1)  \n",
    "      \n",
    "      holder.append(new_row[0])\n",
    "      \n",
    "      random.seed(i)\n",
    "      random_val=random.randint(1,10000)\n",
    "      if random_val<=round(reset_probability*10000,0):\n",
    "        restart=True\n",
    "      \n",
    "      # if i%(iterations-1)==0 and i!=0:\n",
    "      #   print('model trained')\n",
    "\n",
    "    ratings={k: v for k, v in sorted(Counter(holder).items(), key=lambda item: item[1],reverse=True)}\n",
    "    rankings=dict(zip(ratings.keys(), rankdata([-i for i in ratings.values()], method='average')))\n",
    "\n",
    "    pred_start_date=ref_end_date\n",
    "    pred_end_date=pred_start_date+timedelta(days=prediction_period_days)\n",
    "    df_pred=dataset.loc[(dataset['datetime'] >= pred_start_date) & (dataset['datetime'] < pred_end_date),['player_id','teammate_id','opponent1_id','opponent2_id']].to_numpy()\n",
    "    df_target=dataset.loc[(dataset['datetime'] >= pred_start_date) & (dataset['datetime'] < pred_end_date),['win']].to_numpy()\n",
    "      \n",
    "    df_pred=df_pred[::4]\n",
    "    df_target=df_target[::4]\n",
    "  \n",
    "    for i,row in enumerate(df_pred):\n",
    "      if any(x in rankings for x in row[[0,1]]) and any(x in rankings for x in row[[0,1]]):\n",
    "          team1=(rankings.get(row[0],row[1])+rankings.get(row[1],row[0]))/2\n",
    "          team2=(rankings.get(row[2],row[3])+rankings.get(row[3],row[2]))/2\n",
    "          if team1==team2:\n",
    "              result_holder.append(-1) #predicted tie\n",
    "          elif min(team1,team2)==team1 and df_target[i]==True:\n",
    "              result_holder.append(1) #correct prediction\n",
    "          else:\n",
    "              result_holder.append(0) #incorrect prediction\n",
    "      else:\n",
    "        result_holder.append(-2) #one team was completely unranked\n",
    "        \n",
    "        \n",
    "\n",
    "    if train_end_date==None:\n",
    "      if pred_end_date>max(dataset.datetime):\n",
    "        pred_date_check=True\n",
    "    else:\n",
    "      if pred_end_date>train_end_date:\n",
    "        pred_date_check=True\n",
    "  \n",
    "    pred_count+=len(df_pred)\n",
    "    # print(len(df_recent))\n",
    "    # print(reference_date)\n",
    "    # print(ref_end_date)\n",
    "    # print(len(df_pred))\n",
    "    # print(pred_start_date)\n",
    "    print('Model updated through',pred_end_date)\n",
    "    # print(pred_count)\n",
    "    \n",
    "\n",
    "  print(Counter(result_holder))\n",
    "  if Counter(result_holder)[0]==0:\n",
    "    print('Error no values captured')\n",
    "  else:\n",
    "    print('accuracy:',Counter(result_holder)[1]/(Counter(result_holder)[0]+Counter(result_holder)[1]))"
   ]
  },
  {
   "cell_type": "code",
   "execution_count": 39,
   "metadata": {},
   "outputs": [
    {
     "name": "stdout",
     "output_type": "stream",
     "text": [
      "Model updated through 2022-04-04 00:00:00\n",
      "Model updated through 2022-05-04 00:00:00\n",
      "Model updated through 2022-06-03 00:00:00\n",
      "Model updated through 2022-07-03 00:00:00\n",
      "Counter({-2: 8555, 1: 512, 0: 251})\n",
      "accuracy: 0.6710353866317169\n",
      "CPU times: user 1min 28s, sys: 199 ms, total: 1min 28s\n",
      "Wall time: 1min 28s\n"
     ]
    }
   ],
   "source": [
    "%%time\n",
    "\n",
    "#network_model(dataset,train_start_date,training_period_days,prediction_period_days,rw_iterations,reset_probability,train_end_date=None):\n",
    "train_period=90\n",
    "start_date=datetime(2022, 3, 5)-timedelta(days=train_period)\n",
    "network_model(vball_all_df,start_date,train_period,30,70000,.05)"
   ]
  },
  {
   "cell_type": "code",
   "execution_count": 37,
   "metadata": {},
   "outputs": [
    {
     "name": "stdout",
     "output_type": "stream",
     "text": [
      "Model updated through 2022-04-04 00:00:00\n",
      "Model updated through 2022-05-04 00:00:00\n",
      "Model updated through 2022-06-03 00:00:00\n",
      "Model updated through 2022-07-03 00:00:00\n",
      "Counter({-2: 7893, 1: 955, 0: 470})\n",
      "accuracy: 0.6701754385964912\n",
      "CPU times: user 1min 59s, sys: 325 ms, total: 1min 59s\n",
      "Wall time: 1min 59s\n"
     ]
    }
   ],
   "source": [
    "%%time\n",
    "\n",
    "#network_model(dataset,train_start_date,training_period_days,prediction_period_days,rw_iterations,reset_probability,train_end_date=None):\n",
    "train_period=180\n",
    "start_date=datetime(2022, 3, 5)-timedelta(days=train_period)\n",
    "network_model(vball_all_df,start_date,train_period,30,70000,.05)"
   ]
  },
  {
   "cell_type": "code",
   "execution_count": 38,
   "metadata": {},
   "outputs": [
    {
     "name": "stdout",
     "output_type": "stream",
     "text": [
      "Model updated through 2022-04-04 00:00:00\n",
      "Model updated through 2022-05-04 00:00:00\n",
      "Model updated through 2022-06-03 00:00:00\n",
      "Model updated through 2022-07-03 00:00:00\n",
      "Counter({-2: 5766, 1: 2177, 0: 1375})\n",
      "accuracy: 0.6128941441441441\n",
      "CPU times: user 4min 30s, sys: 1.41 s, total: 4min 31s\n",
      "Wall time: 4min 33s\n"
     ]
    }
   ],
   "source": [
    "%%time\n",
    "\n",
    "#network_model(dataset,train_start_date,training_period_days,prediction_period_days,rw_iterations,reset_probability,train_end_date=None):\n",
    "train_period=365\n",
    "start_date=datetime(2022, 3, 5)-timedelta(days=train_period)\n",
    "network_model(vball_all_df,start_date,train_period,30,70000,.05)"
   ]
  },
  {
   "cell_type": "code",
   "execution_count": null,
   "metadata": {},
   "outputs": [],
   "source": [
    "list(set(vball['player_id']))"
   ]
  },
  {
   "cell_type": "code",
   "execution_count": null,
   "metadata": {},
   "outputs": [],
   "source": [
    "# Previous Best\n",
    "# Model updated through 2022-03-23 00:00:00\n",
    "# Counter({-2: 40575, 1: 6325, 0: 3596, -1: 1})\n",
    "# accuracy: 0.6375365386553775\n",
    "\n",
    "# how rankings could impact"
   ]
  }
 ],
 "metadata": {
  "interpreter": {
   "hash": "98188f228320b9c11c456464a36d308a8574f056afe4f13f0d58da7d046c4bd7"
  },
  "kernelspec": {
   "display_name": "Python 3.7.7 ('ds_p37_r35')",
   "language": "python",
   "name": "python3"
  },
  "language_info": {
   "codemirror_mode": {
    "name": "ipython",
    "version": 3
   },
   "file_extension": ".py",
   "mimetype": "text/x-python",
   "name": "python",
   "nbconvert_exporter": "python",
   "pygments_lexer": "ipython3",
   "version": "3.7.7"
  },
  "orig_nbformat": 4
 },
 "nbformat": 4,
 "nbformat_minor": 2
}
