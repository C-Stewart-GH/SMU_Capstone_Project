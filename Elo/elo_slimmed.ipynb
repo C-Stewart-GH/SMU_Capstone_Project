{
 "cells": [
  {
   "cell_type": "markdown",
   "metadata": {},
   "source": [
    "# Elo Code"
   ]
  },
  {
   "cell_type": "code",
   "execution_count": 8,
   "metadata": {},
   "outputs": [],
   "source": [
    "from asyncio.windows_events import NULL\n",
    "import numpy as np\n",
    "from collections import Counter\n",
    "from datetime import datetime as dt\n",
    "import pickle\n",
    "import bz2\n",
    "import random\n",
    "import math\n",
    "from math import log"
   ]
  },
  {
   "cell_type": "markdown",
   "metadata": {},
   "source": [
    "## Data Import"
   ]
  },
  {
   "cell_type": "code",
   "execution_count": 9,
   "metadata": {},
   "outputs": [],
   "source": [
    "with open('C:\\\\Users\\\\mmaze\\\\Desktop\\\\Capstone\\\\Elo\\\\train_and_test_data.pbz2', 'rb') as file:\n",
    "    uncompressed = bz2.BZ2File(file)\n",
    "    vball = pickle.load(uncompressed)\n",
    "\n",
    "#Sort by date (Final Array)\n",
    "vball.sort(order='datetime')"
   ]
  },
  {
   "cell_type": "code",
   "execution_count": 10,
   "metadata": {},
   "outputs": [
    {
     "name": "stdout",
     "output_type": "stream",
     "text": [
      "(80, \"25th Annual AAU Girls' Junior National Beach Volleyball Championships\", 'National', '15U', '21', 'Girls', 'Juniors', 65, 1, 1, 'Home', 1, 'Pool', False, 400, 494, '400.494', 1816, 2144, '1816.2144', True, False, 21, 7, False, 21, 14, 0.75, 21, 33.862354, -118.40166, 'Pacific Standard Time', '2018-07-10T09:00:00.000000')\n",
      "\n",
      "25th Annual AAU Girls' Junior National Beach Volleyball Championships\n",
      "25th Annual AAU Girls' Junior National Beach Volleyball Championships\n",
      "(\"25th Annual AAU Girls' Junior National Beach Volleyball Championships\", 'National')\n"
     ]
    }
   ],
   "source": [
    "# View examples of the data:\n",
    "\n",
    "# row 0\n",
    "print(vball[0])\n",
    "print(\"\")\n",
    "\n",
    "# Equivalent output to a structured array\n",
    "print(vball['tournament_name'][1])\n",
    "print(vball[1]['tournament_name'])\n",
    "\n",
    "# Calling multiple fields\n",
    "print(vball[['tournament_name','type']][1])"
   ]
  },
  {
   "cell_type": "markdown",
   "metadata": {},
   "source": [
    "## Functions"
   ]
  },
  {
   "cell_type": "code",
   "execution_count": 11,
   "metadata": {},
   "outputs": [],
   "source": [
    "# Elo probability, recreated from https://www.geeksforgeeks.org/elo-rating-algorithm/\n",
    "def Probability(rating1, rating2):\n",
    "    return 1.0 / (1 + (10 ** ((rating2 - rating1) / 400)))\n",
    "\n",
    "def EloRating(Ra, Rb, K, won):\n",
    "    # Probability of Player A\n",
    "    Pa = Probability(Ra, Rb)\n",
    "    # Case When Player A wins\n",
    "    if (won) :\n",
    "        Ra = Ra + K * (1 - Pa)\n",
    "    # Case When Player A loses\n",
    "    else :\n",
    "        Ra = Ra + K * (0 - Pa)\n",
    "    return(round(Ra, 4))"
   ]
  },
  {
   "cell_type": "code",
   "execution_count": 12,
   "metadata": {},
   "outputs": [
    {
     "name": "stdout",
     "output_type": "stream",
     "text": [
      "0.15097955721132328\n",
      "0.8490204427886767\n",
      "1387.948\n",
      "587.948\n"
     ]
    }
   ],
   "source": [
    "# Example Outputs:\n",
    "print(Probability(1400, 1700))\n",
    "print(Probability(1700, 1400))\n",
    "print(EloRating(Ra=1100, Rb=1000, K=800, won=True))\n",
    "print(EloRating(Ra=1100, Rb=1000, K=800, won=False))"
   ]
  },
  {
   "cell_type": "code",
   "execution_count": 13,
   "metadata": {},
   "outputs": [],
   "source": [
    "def simulator(match_data=vball, K=800, inital_elo=1200):\n",
    "    # elo_db:\n",
    "    # a dictionary with player id as the key\n",
    "    # the value is their elo\n",
    "    elo_db = dict()\n",
    "    loop = 0\n",
    "    correct_counter = 0\n",
    "    match_counter = 0\n",
    "\n",
    "    for match in match_data:\n",
    "        # add players to database if needed:\n",
    "        for person in [\"player_id\", \"teammate_id\", \"opponent1_id\", \"opponent2_id\"]:\n",
    "            if match[person] not in elo_db.keys():\n",
    "                elo_db.update({match[person]: inital_elo})\n",
    "        # set parameters     \n",
    "        avg_oppon = .5 * (elo_db.get(match[\"opponent1_id\"]) + elo_db.get(match[\"opponent2_id\"]))\n",
    "        player_elo = .5 * (elo_db.get(match[\"player_id\"]) + elo_db.get(match[\"teammate_id\"]))\n",
    "\n",
    "        # we will only record accuracy of games past the 206295th match\n",
    "        # it will caputre the accuracy of 3/5/22 to 6/20/22 games\n",
    "        if loop >= 206296:\n",
    "\n",
    "            # skip over situations where both players are unranked or have same elo\n",
    "            if player_elo == avg_oppon:\n",
    "                continue\n",
    "\n",
    "            # compare preds to actual\n",
    "            prob = Probability(player_elo, avg_oppon)\n",
    "            if prob > .5:\n",
    "                pred_win = True\n",
    "            else:\n",
    "                pred_win = False\n",
    "\n",
    "            # update accuracy/match counters\n",
    "            if pred_win == match[\"win\"]:\n",
    "                correct_counter += 1\n",
    "            match_counter += 1\n",
    "\n",
    "        # perform calculations/updates\n",
    "        new_elo = EloRating(player_elo, avg_oppon, K, match[\"win\"])\n",
    "        elo_db.update({match[\"player_id\"]: new_elo})\n",
    "        loop+=1\n",
    "    return(correct_counter, match_counter, elo_db)"
   ]
  },
  {
   "cell_type": "markdown",
   "metadata": {},
   "source": [
    "## Apply Functions to Data"
   ]
  },
  {
   "cell_type": "code",
   "execution_count": 14,
   "metadata": {},
   "outputs": [
    {
     "name": "stdout",
     "output_type": "stream",
     "text": [
      "accuracy is 0.893518011606263\n"
     ]
    }
   ],
   "source": [
    "output = simulator()\n",
    "print(\"accuracy is\", output[0]/output[1])"
   ]
  },
  {
   "cell_type": "code",
   "execution_count": 15,
   "metadata": {},
   "outputs": [
    {
     "data": {
      "text/plain": [
       "{400: 1938.6504,\n",
       " 494: 2180.7687,\n",
       " 1816: 1366.5328,\n",
       " 2144: 503.1329,\n",
       " 689: 1409.8511,\n",
       " 1861: 2607.6398,\n",
       " 2211: 1762.2169,\n",
       " 2212: 1318.1059,\n",
       " 1846: 2676.2848,\n",
       " 1847: 947.698}"
      ]
     },
     "execution_count": 15,
     "metadata": {},
     "output_type": "execute_result"
    }
   ],
   "source": [
    "players_and_elo = output[2]\n",
    "# view the first 10 players (by id) and their elos: \n",
    "{k: players_and_elo[k] for k in list(players_and_elo)[:10]}"
   ]
  },
  {
   "cell_type": "markdown",
   "metadata": {},
   "source": [
    "## Elo Variant (Optional Read)\n",
    "This includes a decay and restore feature  \n",
    "After each day, players' elo are slightly adjusted towards the initial elo (1200)"
   ]
  },
  {
   "cell_type": "code",
   "execution_count": 16,
   "metadata": {},
   "outputs": [],
   "source": [
    "def simulatorVariant(match_data=vball, K=800, inital_elo=1200, decay_amt=1, restore_amt=1):\n",
    "    # elo_db:\n",
    "    # a dictionary with player id as the key\n",
    "    # the value is their elo\n",
    "    elo_db = dict()\n",
    "    loop = 0\n",
    "    correct_counter = 0\n",
    "    match_counter = 0\n",
    "\n",
    "    last_dt = str(match_data[0][-1])[0:10]\n",
    "\n",
    "    for match in match_data:\n",
    "        if isinstance(decay_amt, float) | isinstance(restore_amt, float):\n",
    "            # find date. Select [0:10] bc we only want the date not time\n",
    "            current_dt = str(match[-1])[0:10]\n",
    "            # if it is a new day then:\n",
    "            if last_dt != current_dt:\n",
    "                last_dt = current_dt\n",
    "                for key, elo in elo_db.items():\n",
    "                    if elo > inital_elo:\n",
    "                        elo_db.update({key: elo*decay_amt})\n",
    "                    if elo < inital_elo:\n",
    "                        elo_db.update({key: elo*restore_amt})\n",
    "\n",
    "        # add players to database if needed:\n",
    "        for person in [\"player_id\", \"teammate_id\", \"opponent1_id\", \"opponent2_id\"]:\n",
    "            if match[person] not in elo_db.keys():\n",
    "                elo_db.update({match[person]: inital_elo})\n",
    "        # set parameters     \n",
    "        avg_oppon = .5 * (elo_db.get(match[\"opponent1_id\"]) + elo_db.get(match[\"opponent2_id\"]))\n",
    "        player_elo = .5 * (elo_db.get(match[\"player_id\"]) + elo_db.get(match[\"teammate_id\"]))\n",
    "\n",
    "        # we will only record accuracy of games past the 206295th match\n",
    "        # it will caputre the accuracy of 3/5/22 to 6/20/22 games\n",
    "        if loop >= 206296:\n",
    "\n",
    "            # skip over situations where both players are unranked or have same elo\n",
    "            if player_elo == avg_oppon:\n",
    "                continue\n",
    "\n",
    "            # compare preds to actual\n",
    "            prob = Probability(player_elo, avg_oppon)\n",
    "            if prob > .5:\n",
    "                pred_win = True\n",
    "            else:\n",
    "                pred_win = False\n",
    "\n",
    "            # update accuracy/match counters\n",
    "            if pred_win == match[\"win\"]:\n",
    "                correct_counter += 1\n",
    "            match_counter += 1\n",
    "\n",
    "        # perform calculations/updates\n",
    "        new_elo = EloRating(player_elo, avg_oppon, K, match[\"win\"])\n",
    "        elo_db.update({match[\"player_id\"]: new_elo})\n",
    "        loop+=1\n",
    "    return(correct_counter, match_counter, elo_db)"
   ]
  },
  {
   "cell_type": "code",
   "execution_count": 17,
   "metadata": {},
   "outputs": [
    {
     "name": "stdout",
     "output_type": "stream",
     "text": [
      "accuracy is 0.8946950618635716\n"
     ]
    }
   ],
   "source": [
    "# performs slightly better, but is more complex\n",
    "output = simulatorVariant(decay_amt=.98, restore_amt=1.07)\n",
    "print(\"accuracy is\", output[0]/output[1])"
   ]
  },
  {
   "cell_type": "code",
   "execution_count": 18,
   "metadata": {},
   "outputs": [
    {
     "name": "stdout",
     "output_type": "stream",
     "text": [
      "accuracy is 0.893518011606263\n"
     ]
    }
   ],
   "source": [
    "# if decay_amt and restore_amt both equal 1, they have no effect and run like the original function\n",
    "output = simulatorVariant(decay_amt=1, restore_amt=1)\n",
    "print(\"accuracy is\", output[0]/output[1])"
   ]
  },
  {
   "cell_type": "markdown",
   "metadata": {},
   "source": [
    "## Elo with Log Loss"
   ]
  },
  {
   "cell_type": "code",
   "execution_count": 19,
   "metadata": {},
   "outputs": [],
   "source": [
    "def LogLoss(outcome, prob):\n",
    "    if outcome == True:\n",
    "        result = 1\n",
    "    else:\n",
    "        result = 0\n",
    "    return -1 * ((result * log(prob)) + ((1 - result) * log(1-prob)))"
   ]
  },
  {
   "cell_type": "code",
   "execution_count": 36,
   "metadata": {},
   "outputs": [],
   "source": [
    "def simulatorLogLoss(match_data=vball, K=800, inital_elo=1200, decay_amt=1, restore_amt=1):\n",
    "    # elo_db:\n",
    "    # a dictionary with player id as the key\n",
    "    # the value is their elo\n",
    "    elo_db = dict()\n",
    "    loop = 0\n",
    "    correct_counter = 0\n",
    "    match_counter = 0\n",
    "    total_log_loss = 0\n",
    "\n",
    "    last_dt = str(match_data[0][-1])[0:10]\n",
    "\n",
    "    for match in match_data:\n",
    "        if isinstance(decay_amt, float) | isinstance(restore_amt, float):\n",
    "            # find date. Select [0:10] bc we only want the date not time\n",
    "            current_dt = str(match[-1])[0:10]\n",
    "            # if it is a new day then:\n",
    "            if last_dt != current_dt:\n",
    "                last_dt = current_dt\n",
    "                for key, elo in elo_db.items():\n",
    "                    if elo > inital_elo:\n",
    "                        elo_db.update({key: elo*decay_amt})\n",
    "                    if elo < inital_elo:\n",
    "                        elo_db.update({key: elo*restore_amt})\n",
    "\n",
    "        # add players to database if needed:\n",
    "        for person in [\"player_id\", \"teammate_id\", \"opponent1_id\", \"opponent2_id\"]:\n",
    "            if match[person] not in elo_db.keys():\n",
    "                elo_db.update({match[person]: inital_elo})\n",
    "        # set parameters     \n",
    "        avg_oppon = .5 * (elo_db.get(match[\"opponent1_id\"]) + elo_db.get(match[\"opponent2_id\"]))\n",
    "        player_elo = .5 * (elo_db.get(match[\"player_id\"]) + elo_db.get(match[\"teammate_id\"]))\n",
    "\n",
    "        # we will only record accuracy of games past the 206295th match\n",
    "        # it will caputre the accuracy of 3/5/22 to 6/20/22 games\n",
    "        if loop >= 206296:\n",
    "\n",
    "            # skip over situations where both players are unranked or have same elo\n",
    "            if player_elo == avg_oppon:\n",
    "                continue\n",
    "\n",
    "            # compare preds to actual\n",
    "            prob = Probability(player_elo, avg_oppon)\n",
    "            total_log_loss += LogLoss(match[\"win\"], prob)\n",
    "            if prob > .5:\n",
    "                pred_win = True\n",
    "            else:\n",
    "                pred_win = False\n",
    "\n",
    "            # update accuracy/match counters\n",
    "            if pred_win == match[\"win\"]:\n",
    "                correct_counter += 1\n",
    "            match_counter += 1\n",
    "\n",
    "        # perform calculations/updates\n",
    "        new_elo = EloRating(player_elo, avg_oppon, K, match[\"win\"])\n",
    "        elo_db.update({match[\"player_id\"]: new_elo})\n",
    "        loop+=1\n",
    "    log_loss = total_log_loss/match_counter\n",
    "    return(correct_counter, match_counter, elo_db, log_loss)"
   ]
  },
  {
   "cell_type": "code",
   "execution_count": 37,
   "metadata": {},
   "outputs": [
    {
     "name": "stdout",
     "output_type": "stream",
     "text": [
      "log loss is 0.2991528829230144\n"
     ]
    }
   ],
   "source": [
    "# performs slightly better, but is more complex\n",
    "output = simulatorLogLoss(decay_amt=.98, restore_amt=1.07)\n",
    "print(\"log loss is\", output[3])"
   ]
  },
  {
   "cell_type": "code",
   "execution_count": 38,
   "metadata": {},
   "outputs": [
    {
     "name": "stdout",
     "output_type": "stream",
     "text": [
      "log loss is 0.30705570748361294\n"
     ]
    }
   ],
   "source": [
    "# if decay_amt and restore_amt both equal 1, they have no effect and run like the original function\n",
    "output = simulatorLogLoss(decay_amt=1, restore_amt=1)\n",
    "print(\"log loss is\", output[3])"
   ]
  },
  {
   "cell_type": "code",
   "execution_count": null,
   "metadata": {},
   "outputs": [],
   "source": []
  }
 ],
 "metadata": {
  "interpreter": {
   "hash": "5ed839481b2e9a52d1b26a8be3f3a085a4ffcea9ab622910b21febce1db18e30"
  },
  "kernelspec": {
   "display_name": "Python 3.8.8 ('base')",
   "language": "python",
   "name": "python3"
  },
  "language_info": {
   "codemirror_mode": {
    "name": "ipython",
    "version": 3
   },
   "file_extension": ".py",
   "mimetype": "text/x-python",
   "name": "python",
   "nbconvert_exporter": "python",
   "pygments_lexer": "ipython3",
   "version": "3.8.8"
  },
  "orig_nbformat": 4
 },
 "nbformat": 4,
 "nbformat_minor": 2
}
