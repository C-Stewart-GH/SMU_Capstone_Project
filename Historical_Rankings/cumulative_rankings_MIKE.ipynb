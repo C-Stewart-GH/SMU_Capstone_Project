{
 "cells": [
  {
   "cell_type": "code",
   "execution_count": 1,
   "metadata": {},
   "outputs": [],
   "source": [
    "import json\n",
    "import os\n",
    "import numpy as np\n",
    "from collections import Counter\n",
    "from datetime import datetime as dt\n",
    "from datetime import timedelta\n",
    "import copy\n",
    "import pickle\n",
    "import bz2\n",
    "import pandas as pd\n",
    "from scipy.stats import rankdata  \n",
    "import pickle\n",
    "import bz2\n"
   ]
  },
  {
   "cell_type": "code",
   "execution_count": 2,
   "metadata": {},
   "outputs": [],
   "source": [
    "#Load raw rankings (in JSON format)\n",
    "aau_path = os.fsencode(\"Ranking_AAU.txt\")\n",
    "bvne_path = os.fsencode(\"Ranking_BVNE.txt\")\n",
    "p1440_path = os.fsencode(\"Ranking_p1440.txt\")\n",
    "\n",
    "file = open(aau_path)\n",
    "aau_raw_rankings=json.load(file)\n",
    "file.close()\n",
    "\n",
    "file = open(bvne_path)\n",
    "bvne_raw_rankings=json.load(file)\n",
    "file.close()\n",
    "\n",
    "file = open(p1440_path)\n",
    "p1440_raw_rankings=json.load(file)\n",
    "file.close()"
   ]
  },
  {
   "cell_type": "markdown",
   "metadata": {},
   "source": [
    "## Prepare Vball Dataset with Match Outcomes"
   ]
  },
  {
   "cell_type": "code",
   "execution_count": 3,
   "metadata": {},
   "outputs": [
    {
     "data": {
      "text/plain": [
       "(\"25th Annual AAU Girls' Junior National Beach Volleyball Championships\", 'National')"
      ]
     },
     "execution_count": 3,
     "metadata": {},
     "output_type": "execute_result"
    }
   ],
   "source": [
    "with open('/Users/mmaze/Desktop/vball_game_data.pbz2', 'rb') as file:\n",
    "    uncompressed = bz2.BZ2File(file)\n",
    "    vball = pickle.load(uncompressed)\n",
    "\n",
    "#Sort by date (Final Array)\n",
    "vball.sort(order='datetime')\n",
    "\n",
    "#Equivalent output in a structured array\n",
    "vball['tournament_name'][1]\n",
    "vball[1]['tournament_name']\n",
    "\n",
    "#Calling multiple fields\n",
    "vball[['tournament_name','type']][1]"
   ]
  },
  {
   "cell_type": "code",
   "execution_count": 4,
   "metadata": {},
   "outputs": [
    {
     "name": "stdout",
     "output_type": "stream",
     "text": [
      "38668\n",
      "37272\n",
      "new data dates range from 2022-03-05T09:00:00.000000 to 2022-06-20T00:30:00.000000\n"
     ]
    }
   ],
   "source": [
    "with open('C:/Users/mmaze/Desktop/Capstone/Pickle_Files/new_vball_game_data.pbz2', 'rb') as file:\n",
    "    uncompressed = bz2.BZ2File(file)\n",
    "    vball_new = pickle.load(uncompressed)\n",
    "\n",
    "#Sort by date (Final Array)\n",
    "vball_new.sort(order='datetime')\n",
    "print(len(vball_new))\n",
    "\n",
    "import datetime as dt\n",
    "\n",
    "from_date = dt.datetime(2022, 3, 1)\n",
    "vball_new = [i for i in vball_new if i[-1] > from_date]\n",
    "print(len(vball_new))\n",
    "\n",
    "print(\"new data dates range from\", vball_new[0][-1], \"to\", vball_new[-1][-1])\n",
    "\n",
    "from datetime import datetime as dt"
   ]
  },
  {
   "cell_type": "code",
   "execution_count": 5,
   "metadata": {},
   "outputs": [],
   "source": [
    "vball_all = np.concatenate((vball, np.array(vball_new)), axis=0)"
   ]
  },
  {
   "cell_type": "markdown",
   "metadata": {},
   "source": [
    "### Quick check that the 3 point systems have the same week indices"
   ]
  },
  {
   "cell_type": "code",
   "execution_count": 6,
   "metadata": {},
   "outputs": [
    {
     "name": "stdout",
     "output_type": "stream",
     "text": [
      "2019-08-26T00:00:00\n",
      "2019-08-26T00:00:00\n",
      "2019-08-26T00:00:00\n",
      "2022-06-27T00:00:00\n",
      "2022-06-27T00:00:00\n",
      "2022-06-27T00:00:00\n"
     ]
    }
   ],
   "source": [
    "for idx, week in enumerate(p1440_raw_rankings):\n",
    "    if week.get('AsOf') > \"2019-08-19T00:00:00\":\n",
    "        pass\n",
    "        #print(idx)\n",
    "\n",
    "print(aau_raw_rankings[33].get(\"AsOf\"))\n",
    "print(bvne_raw_rankings[33].get(\"AsOf\"))\n",
    "print(p1440_raw_rankings[33].get(\"AsOf\"))\n",
    "\n",
    "print(aau_raw_rankings[181].get(\"AsOf\"))\n",
    "print(bvne_raw_rankings[181].get(\"AsOf\"))\n",
    "print(p1440_raw_rankings[181].get(\"AsOf\"))"
   ]
  },
  {
   "cell_type": "markdown",
   "metadata": {},
   "source": [
    "## point_system_eval\n",
    "Calculates accuracy of a given cumulative ranking system.  \n",
    "Like the Elo system, opponent points are averaged  \n",
    "However, the player is only considered and not her teammate"
   ]
  },
  {
   "cell_type": "code",
   "execution_count": 7,
   "metadata": {},
   "outputs": [],
   "source": [
    "def point_system_eval_elo(player_points):\n",
    "    match_counter = 0\n",
    "    correct_counter = 0\n",
    "    \n",
    "    # loop through dates 2022-02-28 to 2022-06-27 which are between ranges (164,182)\n",
    "    for idx in np.arange(164,181):\n",
    "        initial_dt = dt.strptime(player_points[idx].get('AsOf'),'%Y-%m-%dT%H:%M:%S')\n",
    "        end_dt = dt.strptime(player_points[idx+1].get('AsOf'),'%Y-%m-%dT%H:%M:%S')\n",
    "\n",
    "        # initialize ratings databse. Note, this database is cleared at the beginning of each week\n",
    "        db = dict()\n",
    "        for week in player_points:\n",
    "            dt_week = dt.strptime(week.get('AsOf'),'%Y-%m-%dT%H:%M:%S')\n",
    "            if dt_week == initial_dt:\n",
    "                for player in week.get(\"Players\"):\n",
    "                    db.update({player.get('PlayerProfileId'): player.get('Points')})\n",
    "\n",
    "        for match in vball_all:\n",
    "            if (match[-1] >= initial_dt) & (match[-1] < end_dt):\n",
    "                # only consider matches were all players appeared in the db\n",
    "                if (match[\"player_id\"] in db.keys()) & (match[\"teammate_id\"] in db.keys()) & (match[\"opponent1_id\"] in db.keys()) & (match[\"opponent2_id\"] in db.keys()):\n",
    "                    # pull in p1140 rankings:\n",
    "                    player_rtg = db.get(match[\"player_id\"])\n",
    "                    avg_oppon = .5 * (db.get(match[\"opponent1_id\"]) + db.get(match[\"opponent2_id\"]))\n",
    "\n",
    "                    # skip over situations where both players are unranked or have same elo\n",
    "                    if player_rtg == avg_oppon:\n",
    "                        continue\n",
    "                    \n",
    "                    # p1140 predictions\n",
    "                    if player_rtg > avg_oppon:\n",
    "                        pred_win = True\n",
    "                    else:\n",
    "                        pred_win = False\n",
    "\n",
    "                    match_counter += 1\n",
    "                    if pred_win == match[\"win\"]:\n",
    "                        correct_counter += 1\n",
    "    return([correct_counter, match_counter])"
   ]
  },
  {
   "cell_type": "code",
   "execution_count": 8,
   "metadata": {},
   "outputs": [
    {
     "name": "stdout",
     "output_type": "stream",
     "text": [
      "[4444, 7098]\n",
      "0.6260918568610876\n"
     ]
    }
   ],
   "source": [
    "aau_eval = point_system_eval_elo(aau_raw_rankings)\n",
    "print(aau_eval)\n",
    "print(aau_eval[0]/aau_eval[1])"
   ]
  },
  {
   "cell_type": "code",
   "execution_count": 9,
   "metadata": {},
   "outputs": [
    {
     "name": "stdout",
     "output_type": "stream",
     "text": [
      "[2908, 4883]\n",
      "0.5955355314355929\n"
     ]
    }
   ],
   "source": [
    "bvne_eval = point_system_eval_elo(bvne_raw_rankings)\n",
    "print(bvne_eval)\n",
    "print(bvne_eval[0]/bvne_eval[1])"
   ]
  },
  {
   "cell_type": "code",
   "execution_count": 10,
   "metadata": {},
   "outputs": [
    {
     "name": "stdout",
     "output_type": "stream",
     "text": [
      "[2859, 4903]\n",
      "0.5831123801754028\n"
     ]
    }
   ],
   "source": [
    "p1440_eval = point_system_eval_elo(p1440_raw_rankings)\n",
    "print(p1440_eval)\n",
    "print(p1440_eval[0]/p1440_eval[1])"
   ]
  },
  {
   "cell_type": "markdown",
   "metadata": {},
   "source": [
    "## point_system_eval_avg\n",
    "Same as above function, except it averages the points on the player team  \n",
    "Instead of just averaging opponents'"
   ]
  },
  {
   "cell_type": "code",
   "execution_count": 11,
   "metadata": {},
   "outputs": [],
   "source": [
    "def point_system_eval_avg(player_points):\n",
    "    match_counter = 0\n",
    "    correct_counter = 0\n",
    "    \n",
    "    # loop through dates 2022-02-28 to 2022-06-27\n",
    "    for idx in np.arange(164,181):\n",
    "        initial_dt = dt.strptime(player_points[idx].get('AsOf'),'%Y-%m-%dT%H:%M:%S')\n",
    "        end_dt = dt.strptime(player_points[idx+1].get('AsOf'),'%Y-%m-%dT%H:%M:%S')\n",
    "\n",
    "        # initialize ratings databse. Note, this database is cleared at the beginning of each week\n",
    "        db = dict()\n",
    "        for week in player_points:\n",
    "            dt_week = dt.strptime(week.get('AsOf'),'%Y-%m-%dT%H:%M:%S')\n",
    "            if dt_week == initial_dt:\n",
    "                for player in week.get(\"Players\"):\n",
    "                    db.update({player.get('PlayerProfileId'): player.get('Points')})\n",
    "\n",
    "        for match in vball_all:\n",
    "            if (match[-1] >= initial_dt) & (match[-1] < end_dt):\n",
    "                # only consider matches were all players appeared in the db\n",
    "                if (match[\"player_id\"] in db.keys()) & (match[\"teammate_id\"] in db.keys()) & (match[\"opponent1_id\"] in db.keys()) & (match[\"opponent2_id\"] in db.keys()):\n",
    "                    # pull in p1140 rankings:\n",
    "                    avg_player = .5 * (db.get(match[\"player_id\"]) + db.get(match[\"teammate_id\"]))\n",
    "                    avg_oppon = .5 * (db.get(match[\"opponent1_id\"]) + db.get(match[\"opponent2_id\"]))\n",
    "\n",
    "                    # skip over situations where both players are unranked or have same elo\n",
    "                    if avg_player == avg_oppon:\n",
    "                        continue\n",
    "                    \n",
    "                    # p1140 predictions\n",
    "                    if avg_player > avg_oppon:\n",
    "                        pred_win = True\n",
    "                    else:\n",
    "                        pred_win = False\n",
    "\n",
    "                    match_counter += 1\n",
    "                    if pred_win == match[\"win\"]:\n",
    "                        correct_counter += 1\n",
    "    return([correct_counter, match_counter])"
   ]
  },
  {
   "cell_type": "code",
   "execution_count": 12,
   "metadata": {},
   "outputs": [
    {
     "name": "stdout",
     "output_type": "stream",
     "text": [
      "[4492, 7108]\n",
      "0.6319639842431064\n"
     ]
    }
   ],
   "source": [
    "aau_eval = point_system_eval_avg(aau_raw_rankings)\n",
    "print(aau_eval)\n",
    "print(aau_eval[0]/aau_eval[1])"
   ]
  },
  {
   "cell_type": "code",
   "execution_count": 13,
   "metadata": {},
   "outputs": [
    {
     "name": "stdout",
     "output_type": "stream",
     "text": [
      "[2932, 4880]\n",
      "0.6008196721311475\n"
     ]
    }
   ],
   "source": [
    "bvne_eval = point_system_eval_avg(bvne_raw_rankings)\n",
    "print(bvne_eval)\n",
    "print(bvne_eval[0]/bvne_eval[1])"
   ]
  },
  {
   "cell_type": "code",
   "execution_count": 14,
   "metadata": {},
   "outputs": [
    {
     "name": "stdout",
     "output_type": "stream",
     "text": [
      "[2968, 4916]\n",
      "0.6037428803905615\n"
     ]
    }
   ],
   "source": [
    "p1440_eval = point_system_eval_avg(p1440_raw_rankings)\n",
    "print(p1440_eval)\n",
    "print(p1440_eval[0]/p1440_eval[1])"
   ]
  },
  {
   "cell_type": "markdown",
   "metadata": {},
   "source": [
    "## point_system_eval_impute\n",
    "Same as point_system_eval_avg function, except it imputes missing players with 0"
   ]
  },
  {
   "cell_type": "code",
   "execution_count": 22,
   "metadata": {},
   "outputs": [],
   "source": [
    "def point_system_eval_impute(player_points):\n",
    "    match_counter = 0\n",
    "    correct_counter = 0\n",
    "    \n",
    "    # loop through dates 2022-02-28 to 2022-06-27\n",
    "    for idx in np.arange(164,181):\n",
    "        initial_dt = dt.strptime(player_points[idx].get('AsOf'),'%Y-%m-%dT%H:%M:%S')\n",
    "        end_dt = dt.strptime(player_points[idx+1].get('AsOf'),'%Y-%m-%dT%H:%M:%S')\n",
    "\n",
    "        # initialize ratings databse. Note, this database is cleared at the beginning of each week\n",
    "        db = dict()\n",
    "        for week in player_points:\n",
    "            dt_week = dt.strptime(week.get('AsOf'),'%Y-%m-%dT%H:%M:%S')\n",
    "            if dt_week == initial_dt:\n",
    "                for player in week.get(\"Players\"):\n",
    "                    db.update({player.get('PlayerProfileId'): player.get('Points')})\n",
    "\n",
    "        for match in vball_all:\n",
    "            if (match[-1] >= initial_dt) & (match[-1] < end_dt):\n",
    "                \n",
    "                # add players to database if they don't already exist:\n",
    "                for person in [\"player_id\", \"teammate_id\", \"opponent1_id\", \"opponent2_id\"]:\n",
    "                    if match[person] not in db.keys():\n",
    "                        db.update({match[person]: 0})\n",
    "\n",
    "                # pull in p1140 rankings:\n",
    "                avg_player = .5 * (db.get(match[\"player_id\"]) + db.get(match[\"teammate_id\"]))\n",
    "                avg_oppon = .5 * (db.get(match[\"opponent1_id\"]) + db.get(match[\"opponent2_id\"]))\n",
    "\n",
    "                # skip over situations where both players are unranked or have same elo\n",
    "                if avg_player == avg_oppon:\n",
    "                    continue\n",
    "                \n",
    "                # p1140 predictions\n",
    "                if avg_player > avg_oppon:\n",
    "                    pred_win = True\n",
    "                else:\n",
    "                    pred_win = False\n",
    "\n",
    "                match_counter += 1\n",
    "                if pred_win == match[\"win\"]:\n",
    "                    correct_counter += 1\n",
    "                    \n",
    "    return([correct_counter, match_counter])"
   ]
  },
  {
   "cell_type": "code",
   "execution_count": 23,
   "metadata": {},
   "outputs": [
    {
     "name": "stdout",
     "output_type": "stream",
     "text": [
      "[17404, 25668]\n",
      "0.6780426990805672\n"
     ]
    }
   ],
   "source": [
    "aau_eval = point_system_eval_impute(aau_raw_rankings)\n",
    "print(aau_eval)\n",
    "print(aau_eval[0]/aau_eval[1])"
   ]
  },
  {
   "cell_type": "code",
   "execution_count": 24,
   "metadata": {},
   "outputs": [
    {
     "name": "stdout",
     "output_type": "stream",
     "text": [
      "[18028, 27968]\n",
      "0.6445938215102975\n"
     ]
    }
   ],
   "source": [
    "bvne_eval = point_system_eval_impute(bvne_raw_rankings)\n",
    "print(bvne_eval)\n",
    "print(bvne_eval[0]/bvne_eval[1])"
   ]
  },
  {
   "cell_type": "code",
   "execution_count": 25,
   "metadata": {},
   "outputs": [
    {
     "name": "stdout",
     "output_type": "stream",
     "text": [
      "[13436, 20740]\n",
      "0.6478302796528448\n"
     ]
    }
   ],
   "source": [
    "p1440_eval = point_system_eval_impute(p1440_raw_rankings)\n",
    "print(p1440_eval)\n",
    "print(p1440_eval[0]/p1440_eval[1])"
   ]
  }
 ],
 "metadata": {
  "kernelspec": {
   "display_name": "Python 3.8.8 ('base')",
   "language": "python",
   "name": "python3"
  },
  "language_info": {
   "codemirror_mode": {
    "name": "ipython",
    "version": 3
   },
   "file_extension": ".py",
   "mimetype": "text/x-python",
   "name": "python",
   "nbconvert_exporter": "python",
   "pygments_lexer": "ipython3",
   "version": "3.8.8"
  },
  "orig_nbformat": 4,
  "vscode": {
   "interpreter": {
    "hash": "5ed839481b2e9a52d1b26a8be3f3a085a4ffcea9ab622910b21febce1db18e30"
   }
  }
 },
 "nbformat": 4,
 "nbformat_minor": 2
}
